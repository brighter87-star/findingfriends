{
 "cells": [
  {
   "cell_type": "code",
   "execution_count": 3,
   "id": "a105f415-9a90-4c92-b7a7-98012c4500f7",
   "metadata": {},
   "outputs": [],
   "source": [
    "import yfinance as yf"
   ]
  },
  {
   "cell_type": "code",
   "execution_count": 16,
   "id": "a800771a-71c1-4e66-83cd-3c443c2d8377",
   "metadata": {},
   "outputs": [
    {
     "data": {
      "text/html": [
       "<div>\n",
       "<style scoped>\n",
       "    .dataframe tbody tr th:only-of-type {\n",
       "        vertical-align: middle;\n",
       "    }\n",
       "\n",
       "    .dataframe tbody tr th {\n",
       "        vertical-align: top;\n",
       "    }\n",
       "\n",
       "    .dataframe thead th {\n",
       "        text-align: right;\n",
       "    }\n",
       "</style>\n",
       "<table border=\"1\" class=\"dataframe\">\n",
       "  <thead>\n",
       "    <tr style=\"text-align: right;\">\n",
       "      <th></th>\n",
       "      <th>Name</th>\n",
       "      <th>Holding Percent</th>\n",
       "    </tr>\n",
       "    <tr>\n",
       "      <th>Symbol</th>\n",
       "      <th></th>\n",
       "      <th></th>\n",
       "    </tr>\n",
       "  </thead>\n",
       "  <tbody>\n",
       "    <tr>\n",
       "      <th>ZS</th>\n",
       "      <td>Zscaler Inc</td>\n",
       "      <td>0.069995</td>\n",
       "    </tr>\n",
       "    <tr>\n",
       "      <th>VRNS</th>\n",
       "      <td>Varonis Systems Inc</td>\n",
       "      <td>0.059466</td>\n",
       "    </tr>\n",
       "    <tr>\n",
       "      <th>PANW</th>\n",
       "      <td>Palo Alto Networks Inc</td>\n",
       "      <td>0.058672</td>\n",
       "    </tr>\n",
       "    <tr>\n",
       "      <th>CRWD</th>\n",
       "      <td>CrowdStrike Holdings Inc Class A</td>\n",
       "      <td>0.056231</td>\n",
       "    </tr>\n",
       "    <tr>\n",
       "      <th>CYBR</th>\n",
       "      <td>CyberArk Software Ltd</td>\n",
       "      <td>0.055378</td>\n",
       "    </tr>\n",
       "    <tr>\n",
       "      <th>RBRK</th>\n",
       "      <td>Rubrik Inc Class A Shares</td>\n",
       "      <td>0.054101</td>\n",
       "    </tr>\n",
       "    <tr>\n",
       "      <th>CHKP</th>\n",
       "      <td>Check Point Software Technologies Ltd</td>\n",
       "      <td>0.051755</td>\n",
       "    </tr>\n",
       "    <tr>\n",
       "      <th>SAIL</th>\n",
       "      <td>SailPoint Inc</td>\n",
       "      <td>0.050838</td>\n",
       "    </tr>\n",
       "    <tr>\n",
       "      <th>GEN</th>\n",
       "      <td>Gen Digital Inc</td>\n",
       "      <td>0.050762</td>\n",
       "    </tr>\n",
       "    <tr>\n",
       "      <th>BB.TO</th>\n",
       "      <td>BlackBerry Ltd</td>\n",
       "      <td>0.048904</td>\n",
       "    </tr>\n",
       "  </tbody>\n",
       "</table>\n",
       "</div>"
      ],
      "text/plain": [
       "                                         Name  Holding Percent\n",
       "Symbol                                                        \n",
       "ZS                                Zscaler Inc         0.069995\n",
       "VRNS                      Varonis Systems Inc         0.059466\n",
       "PANW                   Palo Alto Networks Inc         0.058672\n",
       "CRWD         CrowdStrike Holdings Inc Class A         0.056231\n",
       "CYBR                    CyberArk Software Ltd         0.055378\n",
       "RBRK                Rubrik Inc Class A Shares         0.054101\n",
       "CHKP    Check Point Software Technologies Ltd         0.051755\n",
       "SAIL                            SailPoint Inc         0.050838\n",
       "GEN                           Gen Digital Inc         0.050762\n",
       "BB.TO                          BlackBerry Ltd         0.048904"
      ]
     },
     "execution_count": 16,
     "metadata": {},
     "output_type": "execute_result"
    }
   ],
   "source": [
    "etf = yf.Ticker(\"BUG\")\n",
    "etf.funds_data.top_holdings"
   ]
  },
  {
   "cell_type": "code",
   "execution_count": null,
   "id": "24b6eadc-a300-4966-80dd-63fd1e7d39bf",
   "metadata": {},
   "outputs": [],
   "source": []
  }
 ],
 "metadata": {
  "kernelspec": {
   "display_name": "Python 3 (ipykernel)",
   "language": "python",
   "name": "python3"
  },
  "language_info": {
   "codemirror_mode": {
    "name": "ipython",
    "version": 3
   },
   "file_extension": ".py",
   "mimetype": "text/x-python",
   "name": "python",
   "nbconvert_exporter": "python",
   "pygments_lexer": "ipython3",
   "version": "3.12.3"
  }
 },
 "nbformat": 4,
 "nbformat_minor": 5
}
